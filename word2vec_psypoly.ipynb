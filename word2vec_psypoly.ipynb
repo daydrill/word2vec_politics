{
 "cells": [
  {
   "cell_type": "code",
   "execution_count": null,
   "metadata": {
    "collapsed": true
   },
   "outputs": [],
   "source": []
  },
  {
   "cell_type": "code",
   "execution_count": null,
   "metadata": {
    "collapsed": true
   },
   "outputs": [],
   "source": []
  },
  {
   "cell_type": "markdown",
   "metadata": {},
   "source": [
    "<hr style=\"border-color:#ff9900\">\n",
    "# Step 1. NLTK 초간단 실습 : 영문으로된 텍스트를 형태소 분석해보자.\n",
    "<hr style=\"border-color:#ff9900\">"
   ]
  },
  {
   "cell_type": "markdown",
   "metadata": {},
   "source": [
    "http://www.nltk.org/"
   ]
  },
  {
   "cell_type": "code",
   "execution_count": 3,
   "metadata": {
    "collapsed": true
   },
   "outputs": [],
   "source": [
    "from __future__ import print_function, unicode_literals "
   ]
  },
  {
   "cell_type": "code",
   "execution_count": null,
   "metadata": {
    "collapsed": true
   },
   "outputs": [],
   "source": []
  },
  {
   "cell_type": "markdown",
   "metadata": {},
   "source": [
    "<br><br><br>\n",
    "## 1. 문장 끝(EOS; End Of Sentence) 탐지\n",
    "- 문서에서 각 문장을 인식"
   ]
  },
  {
   "cell_type": "code",
   "execution_count": 4,
   "metadata": {
    "collapsed": true
   },
   "outputs": [],
   "source": [
    "import nltk"
   ]
  },
  {
   "cell_type": "code",
   "execution_count": 5,
   "metadata": {
    "collapsed": false
   },
   "outputs": [
    {
     "data": {
      "text/plain": [
       "u\"Hello, it's me. I was wondering if after all these years. You'd like to meet, to go over everything. They say that time's supposed to heal ya.\""
      ]
     },
     "execution_count": 5,
     "metadata": {},
     "output_type": "execute_result"
    }
   ],
   "source": [
    "txt= \"Hello, it's me. I was wondering \\\n",
    "if after all these years. You'd like to \\\n",
    "meet, to go over everything. They \\\n",
    "say that time's supposed to heal ya.\"\n",
    "txt"
   ]
  },
  {
   "cell_type": "code",
   "execution_count": 6,
   "metadata": {
    "collapsed": false
   },
   "outputs": [
    {
     "data": {
      "text/plain": [
       "u\"Hello, it's me.\""
      ]
     },
     "execution_count": 6,
     "metadata": {},
     "output_type": "execute_result"
    }
   ],
   "source": [
    "sentences = nltk.tokenize.sent_tokenize(txt)\n",
    "sentences[0]"
   ]
  },
  {
   "cell_type": "code",
   "execution_count": 7,
   "metadata": {
    "collapsed": false
   },
   "outputs": [
    {
     "data": {
      "text/plain": [
       "[u\"Hello, it's me.\",\n",
       " u'I was wondering if after all these years.',\n",
       " u\"You'd like to meet, to go over everything.\",\n",
       " u\"They say that time's supposed to heal ya.\"]"
      ]
     },
     "execution_count": 7,
     "metadata": {},
     "output_type": "execute_result"
    }
   ],
   "source": [
    "sentences"
   ]
  },
  {
   "cell_type": "code",
   "execution_count": null,
   "metadata": {
    "collapsed": true
   },
   "outputs": [],
   "source": []
  },
  {
   "cell_type": "markdown",
   "metadata": {},
   "source": [
    "<br><br><br>\n",
    "## 2. 토큰화(Tokenization)\n",
    "- 각각의 문장을 토큰으로 분리.\n",
    "- 한글의 __형태소__(의미를 가진 최소한의 단위)와 유사한 의미."
   ]
  },
  {
   "cell_type": "code",
   "execution_count": 8,
   "metadata": {
    "collapsed": false
   },
   "outputs": [
    {
     "data": {
      "text/plain": [
       "[[u'Hello', u',', u'it', u\"'s\", u'me', u'.'],\n",
       " [u'I',\n",
       "  u'was',\n",
       "  u'wondering',\n",
       "  u'if',\n",
       "  u'after',\n",
       "  u'all',\n",
       "  u'these',\n",
       "  u'years',\n",
       "  u'.'],\n",
       " [u'You',\n",
       "  u\"'d\",\n",
       "  u'like',\n",
       "  u'to',\n",
       "  u'meet',\n",
       "  u',',\n",
       "  u'to',\n",
       "  u'go',\n",
       "  u'over',\n",
       "  u'everything',\n",
       "  u'.'],\n",
       " [u'They',\n",
       "  u'say',\n",
       "  u'that',\n",
       "  u'time',\n",
       "  u\"'s\",\n",
       "  u'supposed',\n",
       "  u'to',\n",
       "  u'heal',\n",
       "  u'ya',\n",
       "  u'.']]"
      ]
     },
     "execution_count": 8,
     "metadata": {},
     "output_type": "execute_result"
    }
   ],
   "source": [
    "tokens = [nltk.tokenize.word_tokenize(sen) for sen in sentences]\n",
    "tokens"
   ]
  },
  {
   "cell_type": "code",
   "execution_count": null,
   "metadata": {
    "collapsed": true
   },
   "outputs": [],
   "source": []
  },
  {
   "cell_type": "markdown",
   "metadata": {},
   "source": [
    "<br><br><br>\n",
    "## 3. 품사(POS; part-of-speech) 태깅(Tagging)\n",
    "- 토큰에 품사 부착\n",
    "- POS에 대한 정보 : http://www.ling.upenn.edu/courses/Fall_2003/ling001/penn_treebank_pos.html"
   ]
  },
  {
   "cell_type": "code",
   "execution_count": 9,
   "metadata": {
    "collapsed": false,
    "scrolled": true
   },
   "outputs": [
    {
     "data": {
      "text/plain": [
       "[[(u'Hello', 'NNP'),\n",
       "  (u',', ','),\n",
       "  (u'it', 'PRP'),\n",
       "  (u\"'s\", 'VBZ'),\n",
       "  (u'me', 'PRP'),\n",
       "  (u'.', '.')],\n",
       " [(u'I', 'PRP'),\n",
       "  (u'was', 'VBD'),\n",
       "  (u'wondering', 'VBG'),\n",
       "  (u'if', 'IN'),\n",
       "  (u'after', 'IN'),\n",
       "  (u'all', 'DT'),\n",
       "  (u'these', 'DT'),\n",
       "  (u'years', 'NNS'),\n",
       "  (u'.', '.')],\n",
       " [(u'You', 'PRP'),\n",
       "  (u\"'d\", 'MD'),\n",
       "  (u'like', 'VB'),\n",
       "  (u'to', 'TO'),\n",
       "  (u'meet', 'VB'),\n",
       "  (u',', ','),\n",
       "  (u'to', 'TO'),\n",
       "  (u'go', 'VB'),\n",
       "  (u'over', 'IN'),\n",
       "  (u'everything', 'NN'),\n",
       "  (u'.', '.')],\n",
       " [(u'They', 'PRP'),\n",
       "  (u'say', 'VBP'),\n",
       "  (u'that', 'IN'),\n",
       "  (u'time', 'NN'),\n",
       "  (u\"'s\", 'POS'),\n",
       "  (u'supposed', 'VBN'),\n",
       "  (u'to', 'TO'),\n",
       "  (u'heal', 'VB'),\n",
       "  (u'ya', 'NN'),\n",
       "  (u'.', '.')]]"
      ]
     },
     "execution_count": 9,
     "metadata": {},
     "output_type": "execute_result"
    }
   ],
   "source": [
    "pos_tagged_tokens =[nltk.pos_tag(t) for t in tokens]\n",
    "pos_tagged_tokens"
   ]
  },
  {
   "cell_type": "markdown",
   "metadata": {},
   "source": [
    "<br><br><br><br><br><br>\n",
    "<hr style=\"border-color:#ff9900\">\n",
    "# Step 2. KonlPy 간단 실습 : 한글도 다뤄보자.\n",
    "<hr style=\"border-color:#ff9900\">"
   ]
  },
  {
   "cell_type": "markdown",
   "metadata": {},
   "source": [
    "<br><br><br>\n",
    "## 1. 한글 텍스트 데이터 불러오기"
   ]
  },
  {
   "cell_type": "markdown",
   "metadata": {},
   "source": [
    "- 실습할 데이터 : http://data.popong.com/?python#statement"
   ]
  },
  {
   "cell_type": "code",
   "execution_count": 10,
   "metadata": {
    "collapsed": false
   },
   "outputs": [],
   "source": [
    "import konlpy\n",
    "import konlpy.corpus\n",
    "from konlpy.utils import pprint"
   ]
  },
  {
   "cell_type": "code",
   "execution_count": 11,
   "metadata": {
    "collapsed": false,
    "scrolled": true
   },
   "outputs": [
    {
     "name": "stdout",
     "output_type": "stream",
     "text": [
      "[u'http://api.popong.com/v0.2/statement/?api_key=test&per_page=100&page=1', u'http://api.popong.com/v0.2/statement/?api_key=test&per_page=100&page=2', u'http://api.popong.com/v0.2/statement/?api_key=test&per_page=100&page=3', u'http://api.popong.com/v0.2/statement/?api_key=test&per_page=100&page=4', u'http://api.popong.com/v0.2/statement/?api_key=test&per_page=100&page=5', u'http://api.popong.com/v0.2/statement/?api_key=test&per_page=100&page=6', u'http://api.popong.com/v0.2/statement/?api_key=test&per_page=100&page=7', u'http://api.popong.com/v0.2/statement/?api_key=test&per_page=100&page=8', u'http://api.popong.com/v0.2/statement/?api_key=test&per_page=100&page=9', u'http://api.popong.com/v0.2/statement/?api_key=test&per_page=100&page=10']\n"
     ]
    }
   ],
   "source": [
    "url_list = []\n",
    "for i in xrange(1,100):\n",
    "    url= \"http://api.popong.com/v0.2/statement/?api_key=test&per_page=100&page=%d\" %i\n",
    "    url_list.append(url)    \n",
    "print(url_list[:10])"
   ]
  },
  {
   "cell_type": "code",
   "execution_count": 12,
   "metadata": {
    "collapsed": true
   },
   "outputs": [],
   "source": [
    "import requests"
   ]
  },
  {
   "cell_type": "code",
   "execution_count": 13,
   "metadata": {
    "collapsed": true
   },
   "outputs": [],
   "source": [
    "items=[]\n",
    "for url in url_list:\n",
    "    res = requests.get(url).json()\n",
    "    items.extend(res['items'])"
   ]
  },
  {
   "cell_type": "code",
   "execution_count": 14,
   "metadata": {
    "collapsed": false
   },
   "outputs": [
    {
     "data": {
      "text/plain": [
       "9900"
      ]
     },
     "execution_count": 14,
     "metadata": {},
     "output_type": "execute_result"
    }
   ],
   "source": [
    "len(items)"
   ]
  },
  {
   "cell_type": "code",
   "execution_count": 15,
   "metadata": {
    "collapsed": false
   },
   "outputs": [
    {
     "data": {
      "text/plain": [
       "[{u'content': u'\\uc9c4\\uc9dc \\uad81\\uae08\\ud574\\uc11c \\ud558\\ub098\\ub9cc, \\uacf5\\ubd80 \\uc548 \\ud574 \\uac00\\uc9c0\\uace0 \\uc640\\uc11c \\uc5ec\\ucb48\\uc5b4 \\ubcf4\\ub294\\ub370\\uc694. \\uc5b4\\uca0c\\ub4e0 \\uce74\\ud0c0\\ub974 \\uad6d\\ubd80\\ud380\\ub4dc \\ud558\\uace0 \\ud574\\uc11c \\uc81c3\\uad6d\\uc5d0 \\uacf5\\ub3d9 \\uc9c4\\ucd9c\\ud55c\\ub2e4\\ub294\\ub370 \\uadf8 \\uc81c3\\uad6d\\uc774 \\uc5b4\\ub514\\uc5d0\\uc694, \\ubaa9\\ud45c\\ub85c \\ud558\\ub294 \\ub370\\uac00?',\n",
       "  u'date': u'2014-11-21',\n",
       "  u'id': 1757334,\n",
       "  u'meeting_id': 19329611504,\n",
       "  u'person_id': 1966177,\n",
       "  u'sequence': 2170,\n",
       "  u'speaker': u'\\ubc15\\uc644\\uc8fc \\uc704\\uc6d0',\n",
       "  u'url': u'http://pokr.kr/meeting/19329611504/dialog#1757334'},\n",
       " {u'content': u'\\uc81c3\\uad6d\\uc740 \\uce74\\ud0c0\\ub974 \\ucabd\\uc5d0\\uc11c\\ub294 \\uc8fc\\ub85c \\uc544\\uc2dc\\uc544\\uad6d\\uac00, \\uc544\\uc2dc\\uc544, \\uc544\\ud504\\ub9ac\\uce74\\ub97c \\uc6d0\\ud558\\uace0 \\uc788\\uc2b5\\ub2c8\\ub2e4.',\n",
       "  u'date': u'2014-11-21',\n",
       "  u'id': 1757335,\n",
       "  u'meeting_id': 19329611504,\n",
       "  u'person_id': None,\n",
       "  u'sequence': 2171,\n",
       "  u'speaker': u'\\uad6d\\ubb34\\uc870\\uc815\\uc2e4\\uad6d\\ubb341\\ucc28\\uc7a5 \\ud64d\\uc724\\uc2dd',\n",
       "  u'url': u'http://pokr.kr/meeting/19329611504/dialog#1757335'},\n",
       " {u'content': u'\\uadf8\\uac83\\uc740 \\ub108\\ubb34 \\ud3ec\\uad04\\uc801\\uc774\\uace0\\uc694. \\ub3c8 \\uba87 \\ud47c \\uac16\\uace0\\uc11c\\u2026\\u2026 \\uadf8\\ub7ec\\ub2c8\\uae4c \\ud2b9\\uc815\\ud558\\uace0 \\uc788\\ub294 \\ub370\\uac00 \\uc788\\ub290\\ub0d0 \\uc774\\uac70\\uc608\\uc694.',\n",
       "  u'date': u'2014-11-21',\n",
       "  u'id': 1757336,\n",
       "  u'meeting_id': 19329611504,\n",
       "  u'person_id': 1966177,\n",
       "  u'sequence': 2172,\n",
       "  u'speaker': u'\\ubc15\\uc644\\uc8fc \\uc704\\uc6d0',\n",
       "  u'url': u'http://pokr.kr/meeting/19329611504/dialog#1757336'},\n",
       " {u'content': u'\\ud2b9\\uc815\\ud55c \\uad6d\\uac00\\uac00 \\uc788\\ub294 \\uac8c \\uc544\\ub2c8\\uace0\\uc694. \\uce74\\ud0c0\\ub974\\uac00 \\uad6d\\ubd80\\ud380\\ub4dc\\uac00 \\uc57d 1000\\uc5b5 \\ubd88\\uc774 \\ub418\\uaca0\\uc2b5\\ub2c8\\ub2e4.',\n",
       "  u'date': u'2014-11-21',\n",
       "  u'id': 1757337,\n",
       "  u'meeting_id': 19329611504,\n",
       "  u'person_id': None,\n",
       "  u'sequence': 2173,\n",
       "  u'speaker': u'\\uad6d\\ubb34\\uc870\\uc815\\uc2e4\\uad6d\\ubb341\\ucc28\\uc7a5 \\ud64d\\uc724\\uc2dd',\n",
       "  u'url': u'http://pokr.kr/meeting/19329611504/dialog#1757337'},\n",
       " {u'content': u'1700\\uc5b5 \\ubd88\\u2026\\u2026',\n",
       "  u'date': u'2014-11-21',\n",
       "  u'id': 1757338,\n",
       "  u'meeting_id': 19329611504,\n",
       "  u'person_id': 1966177,\n",
       "  u'sequence': 2174,\n",
       "  u'speaker': u'\\ubc15\\uc644\\uc8fc \\uc704\\uc6d0',\n",
       "  u'url': u'http://pokr.kr/meeting/19329611504/dialog#1757338'},\n",
       " {u'content': u'\\uc608, \\ub418\\ub294\\ub370 \\uadf8\\uc911\\uc5d0\\uc11c \\uc800\\ud76c\\uac00 \\uc8fc\\ub85c \\ud558\\ub294 \\uac83\\uc774 \\uc911\\uc559\\uc544\\uc2dc\\uc544 \\uad6d\\uac00\\ub4e4\\ud558\\uace0 \\ub3d9\\ub0a8\\uc544 \\uad6d\\uac00\\ub4e4\\ud558\\uace0 \\uc911\\ub3d9 \\uad6d\\uac00 \\uba87 \\uad6d\\uac00\\ub97c \\uc800\\ud76c\\uac00 \\uc0ac\\uc5c5\\ub4e4\\uc744 \\ubf51\\uc544 \\uac00\\uc9c0\\uace0\\u2026\\u2026',\n",
       "  u'date': u'2014-11-21',\n",
       "  u'id': 1757339,\n",
       "  u'meeting_id': 19329611504,\n",
       "  u'person_id': None,\n",
       "  u'sequence': 2175,\n",
       "  u'speaker': u'\\uad6d\\ubb34\\uc870\\uc815\\uc2e4\\uad6d\\ubb341\\ucc28\\uc7a5 \\ud64d\\uc724\\uc2dd',\n",
       "  u'url': u'http://pokr.kr/meeting/19329611504/dialog#1757339'},\n",
       " {u'content': u'\\uadf8\\ub7ec\\ub2c8\\uae4c \\uc774\\ub7f0 \\uc0ac\\uc5c5\\uc744 \\uad6d\\ubb34\\ucd1d\\ub9ac\\uc2e4\\uc5d0\\uc11c \\uc9c1\\uc811 \\ud558\\uc2e0\\ub2e4\\uace0?',\n",
       "  u'date': u'2014-11-21',\n",
       "  u'id': 1757340,\n",
       "  u'meeting_id': 19329611504,\n",
       "  u'person_id': 1966177,\n",
       "  u'sequence': 2176,\n",
       "  u'speaker': u'\\ubc15\\uc644\\uc8fc \\uc704\\uc6d0',\n",
       "  u'url': u'http://pokr.kr/meeting/19329611504/dialog#1757340'},\n",
       " {u'content': u'\\uc800\\ud76c\\uac00 \\uac19\\uc774, \\uc0b0\\uc5c5\\ubd80\\ud558\\uace0 \\uad6d\\ud1a0\\ubd80\\ud558\\uace0 \\ubbf8\\ub798\\ubd80\\ud558\\uace0 \\uac19\\uc774 \\uc0ac\\uc5c5\\uc744 \\ud310\\ub2e8\\ud574 \\uac00\\uc9c0\\uace0, \\ubb3c\\ub860 \\uadf8 \\uacfc\\uc815\\uc5d0\\uc11c\\ub294 \\uac01 \\uc5c5\\uacc4\\ub4e4\\ud558\\uace0 \\uac19\\uc774 \\ub178\\ub825\\ud558\\uace0 \\uc788\\uc2b5\\ub2c8\\ub2e4.',\n",
       "  u'date': u'2014-11-21',\n",
       "  u'id': 1757341,\n",
       "  u'meeting_id': 19329611504,\n",
       "  u'person_id': None,\n",
       "  u'sequence': 2177,\n",
       "  u'speaker': u'\\uad6d\\ubb34\\uc870\\uc815\\uc2e4\\uad6d\\ubb341\\ucc28\\uc7a5 \\ud64d\\uc724\\uc2dd',\n",
       "  u'url': u'http://pokr.kr/meeting/19329611504/dialog#1757341'},\n",
       " {u'content': u'\\uc57d\\uac04 \\uc9c0\\ub09c MB\\uc815\\ubd80\\uc758 VIP \\uc790\\uc6d0\\uc678\\uad50 \\uac19\\uc740, \\uc57d\\uac04 \\uadf8\\ub7f0 \\ub290\\ub08c\\uc774 \\ub4e4\\uc5b4\\uc694.',\n",
       "  u'date': u'2014-11-21',\n",
       "  u'id': 1757342,\n",
       "  u'meeting_id': 19329611504,\n",
       "  u'person_id': 1966177,\n",
       "  u'sequence': 2178,\n",
       "  u'speaker': u'\\ubc15\\uc644\\uc8fc \\uc704\\uc6d0',\n",
       "  u'url': u'http://pokr.kr/meeting/19329611504/dialog#1757342'},\n",
       " {u'content': u'\\uc774\\uac83\\uc740 \\uc804\\ud600 \\uc790\\uc6d0\\uc678\\uad50\\uc640 \\uad00\\uacc4\\uc5c6\\uc2b5\\ub2c8\\ub2e4.',\n",
       "  u'date': u'2014-11-21',\n",
       "  u'id': 1757343,\n",
       "  u'meeting_id': 19329611504,\n",
       "  u'person_id': None,\n",
       "  u'sequence': 2179,\n",
       "  u'speaker': u'\\uad6d\\ubb34\\uc870\\uc815\\uc2e4\\uad6d\\ubb341\\ucc28\\uc7a5 \\ud64d\\uc724\\uc2dd',\n",
       "  u'url': u'http://pokr.kr/meeting/19329611504/dialog#1757343'}]"
      ]
     },
     "execution_count": 15,
     "metadata": {},
     "output_type": "execute_result"
    }
   ],
   "source": [
    "items[:10]"
   ]
  },
  {
   "cell_type": "code",
   "execution_count": 16,
   "metadata": {
    "collapsed": false,
    "scrolled": true
   },
   "outputs": [
    {
     "name": "stdout",
     "output_type": "stream",
     "text": [
      "[{content: 진짜 궁금해서 하나만, 공부 안 해 가지고 와서 여쭈어 보는데요. 어쨌든 카타르 국부펀드 하고 해서 제3국에 공동 진출한다는데 그 제3국이 어디에요, 목표로 하는 데가?,\n",
      "  date: 2014-11-21,\n",
      "  id: 1757334,\n",
      "  meeting_id: 19329611504,\n",
      "  person_id: 1966177,\n",
      "  sequence: 2170,\n",
      "  speaker: 박완주 위원,\n",
      "  url: http://pokr.kr/meeting/19329611504/dialog#1757334},\n",
      " {content: 제3국은 카타르 쪽에서는 주로 아시아국가, 아시아, 아프리카를 원하고 있습니다.,\n",
      "  date: 2014-11-21,\n",
      "  id: 1757335,\n",
      "  meeting_id: 19329611504,\n",
      "  person_id: None,\n",
      "  sequence: 2171,\n",
      "  speaker: 국무조정실국무1차장 홍윤식,\n",
      "  url: http://pokr.kr/meeting/19329611504/dialog#1757335},\n",
      " {content: 그것은 너무 포괄적이고요. 돈 몇 푼 갖고서…… 그러니까 특정하고 있는 데가 있느냐 이거예요.,\n",
      "  date: 2014-11-21,\n",
      "  id: 1757336,\n",
      "  meeting_id: 19329611504,\n",
      "  person_id: 1966177,\n",
      "  sequence: 2172,\n",
      "  speaker: 박완주 위원,\n",
      "  url: http://pokr.kr/meeting/19329611504/dialog#1757336},\n",
      " {content: 특정한 국가가 있는 게 아니고요. 카타르가 국부펀드가 약 1000억 불이 되겠습니다.,\n",
      "  date: 2014-11-21,\n",
      "  id: 1757337,\n",
      "  meeting_id: 19329611504,\n",
      "  person_id: None,\n",
      "  sequence: 2173,\n",
      "  speaker: 국무조정실국무1차장 홍윤식,\n",
      "  url: http://pokr.kr/meeting/19329611504/dialog#1757337},\n",
      " {content: 1700억 불……,\n",
      "  date: 2014-11-21,\n",
      "  id: 1757338,\n",
      "  meeting_id: 19329611504,\n",
      "  person_id: 1966177,\n",
      "  sequence: 2174,\n",
      "  speaker: 박완주 위원,\n",
      "  url: http://pokr.kr/meeting/19329611504/dialog#1757338},\n",
      " {content: 예, 되는데 그중에서 저희가 주로 하는 것이 중앙아시아 국가들하고 동남아 국가들하고 중동 국가 몇 국가를 저희가 사업들을 뽑아 가지고……,\n",
      "  date: 2014-11-21,\n",
      "  id: 1757339,\n",
      "  meeting_id: 19329611504,\n",
      "  person_id: None,\n",
      "  sequence: 2175,\n",
      "  speaker: 국무조정실국무1차장 홍윤식,\n",
      "  url: http://pokr.kr/meeting/19329611504/dialog#1757339},\n",
      " {content: 그러니까 이런 사업을 국무총리실에서 직접 하신다고?,\n",
      "  date: 2014-11-21,\n",
      "  id: 1757340,\n",
      "  meeting_id: 19329611504,\n",
      "  person_id: 1966177,\n",
      "  sequence: 2176,\n",
      "  speaker: 박완주 위원,\n",
      "  url: http://pokr.kr/meeting/19329611504/dialog#1757340},\n",
      " {content: 저희가 같이, 산업부하고 국토부하고 미래부하고 같이 사업을 판단해 가지고, 물론 그 과정에서는 각 업계들하고 같이 노력하고 있습니다.,\n",
      "  date: 2014-11-21,\n",
      "  id: 1757341,\n",
      "  meeting_id: 19329611504,\n",
      "  person_id: None,\n",
      "  sequence: 2177,\n",
      "  speaker: 국무조정실국무1차장 홍윤식,\n",
      "  url: http://pokr.kr/meeting/19329611504/dialog#1757341},\n",
      " {content: 약간 지난 MB정부의 VIP 자원외교 같은, 약간 그런 느낌이 들어요.,\n",
      "  date: 2014-11-21,\n",
      "  id: 1757342,\n",
      "  meeting_id: 19329611504,\n",
      "  person_id: 1966177,\n",
      "  sequence: 2178,\n",
      "  speaker: 박완주 위원,\n",
      "  url: http://pokr.kr/meeting/19329611504/dialog#1757342},\n",
      " {content: 이것은 전혀 자원외교와 관계없습니다.,\n",
      "  date: 2014-11-21,\n",
      "  id: 1757343,\n",
      "  meeting_id: 19329611504,\n",
      "  person_id: None,\n",
      "  sequence: 2179,\n",
      "  speaker: 국무조정실국무1차장 홍윤식,\n",
      "  url: http://pokr.kr/meeting/19329611504/dialog#1757343}]\n"
     ]
    }
   ],
   "source": [
    "pprint(items[:10])"
   ]
  },
  {
   "cell_type": "code",
   "execution_count": 17,
   "metadata": {
    "collapsed": false
   },
   "outputs": [
    {
     "name": "stdout",
     "output_type": "stream",
     "text": [
      "그러니까 그런 형식으로 이렇게 특정해서 돌아다니면서 어레인지(arrange) 하고 공사들 껴 놓고 이런 것 같은데……\n"
     ]
    }
   ],
   "source": [
    "pprint(items[10]['content'])"
   ]
  },
  {
   "cell_type": "code",
   "execution_count": null,
   "metadata": {
    "collapsed": true
   },
   "outputs": [],
   "source": []
  },
  {
   "cell_type": "markdown",
   "metadata": {},
   "source": [
    "<br><br><br>\n",
    "## 2. 품사 태깅(POS Tagging)\n",
    "- Korean POS tags comparison chart : https://docs.google.com/spreadsheets/d/1OGAjUvalBuX-oZvZ_-9tEfYD2gQe7hTGsgUpiiBSXI8/edit#gid=0"
   ]
  },
  {
   "cell_type": "code",
   "execution_count": 22,
   "metadata": {
    "collapsed": true
   },
   "outputs": [],
   "source": [
    "# 메캅 형태소 분석기\n",
    "from konlpy.tag import Mecab\n",
    "mecab = Mecab()"
   ]
  },
  {
   "cell_type": "code",
   "execution_count": 24,
   "metadata": {
    "collapsed": false
   },
   "outputs": [
    {
     "name": "stdout",
     "output_type": "stream",
     "text": [
      "그러니까 그런 형식으로 이렇게 특정해서 돌아다니면서 어레인지(arrange) 하고 공사들 껴 놓고 이런 것 같은데……\n"
     ]
    }
   ],
   "source": [
    "test_statement = items[10]['content']\n",
    "pprint(test_statement)"
   ]
  },
  {
   "cell_type": "code",
   "execution_count": 25,
   "metadata": {
    "collapsed": false,
    "scrolled": true
   },
   "outputs": [
    {
     "name": "stdout",
     "output_type": "stream",
     "text": [
      "[(그러니까, MAJ),\n",
      " (그런, MM),\n",
      " (형식, NNG),\n",
      " (으로, JKB),\n",
      " (이렇게, MAG),\n",
      " (특정, NNG),\n",
      " (해서, XSV+EC),\n",
      " (돌아다니, VV),\n",
      " (면서, EC),\n",
      " (어, IC),\n",
      " (레인지, NNG),\n",
      " ((, SSO),\n",
      " (arrange, SL),\n",
      " (), SSC),\n",
      " (하, VV),\n",
      " (고, EC),\n",
      " (공사, NNG),\n",
      " (들, XSN),\n",
      " (껴, VV+EC),\n",
      " (놓, VX),\n",
      " (고, EC),\n",
      " (이런, MM),\n",
      " (것, NNB),\n",
      " (같, VA),\n",
      " (은데, EC),\n",
      " (…, SE),\n",
      " (…, SE)]\n"
     ]
    }
   ],
   "source": [
    "pprint(mecab.pos(test_statement))"
   ]
  },
  {
   "cell_type": "code",
   "execution_count": null,
   "metadata": {
    "collapsed": true
   },
   "outputs": [],
   "source": []
  },
  {
   "cell_type": "markdown",
   "metadata": {},
   "source": [
    "<br><br><br>\n",
    "## 3. 어떤 단어가 많이 사용되었는지 단어 빈도 플롯 살펴보기\n",
    "- 참고 : https://www.kaggle.com/c/word2vec-nlp-tutorial/details/part-1-for-beginners-bag-of-words"
   ]
  },
  {
   "cell_type": "code",
   "execution_count": 20,
   "metadata": {
    "collapsed": true
   },
   "outputs": [],
   "source": [
    "# (돈, Noun) -> \"돈/Noun\" 형태로 형태소 분석.\n",
    "def tokenizer_mecab(doc):\n",
    "    return ['/'.join(t) for t in mecab.pos(doc)]"
   ]
  },
  {
   "cell_type": "code",
   "execution_count": 26,
   "metadata": {
    "collapsed": false
   },
   "outputs": [
    {
     "name": "stdout",
     "output_type": "stream",
     "text": [
      "[그러니까/MAJ,\n",
      " 그런/MM,\n",
      " 형식/NNG,\n",
      " 으로/JKB,\n",
      " 이렇게/MAG,\n",
      " 특정/NNG,\n",
      " 해서/XSV+EC,\n",
      " 돌아다니/VV,\n",
      " 면서/EC,\n",
      " 어/IC,\n",
      " 레인지/NNG,\n",
      " (/SSO,\n",
      " arrange/SL,\n",
      " )/SSC,\n",
      " 하/VV,\n",
      " 고/EC,\n",
      " 공사/NNG,\n",
      " 들/XSN,\n",
      " 껴/VV+EC,\n",
      " 놓/VX,\n",
      " 고/EC,\n",
      " 이런/MM,\n",
      " 것/NNB,\n",
      " 같/VA,\n",
      " 은데/EC,\n",
      " …/SE,\n",
      " …/SE]\n"
     ]
    }
   ],
   "source": [
    "pprint(tokenizer_mecab(test_statement))"
   ]
  },
  {
   "cell_type": "code",
   "execution_count": 27,
   "metadata": {
    "collapsed": true
   },
   "outputs": [],
   "source": [
    "# Import various modules for string cleaning\n",
    "from bs4 import BeautifulSoup\n",
    "import re"
   ]
  },
  {
   "cell_type": "code",
   "execution_count": 28,
   "metadata": {
    "collapsed": false
   },
   "outputs": [],
   "source": [
    "# 리뷰 단어 리스트 형태로 만듦.\n",
    "def review_to_wordlist(review):\n",
    "    try:\n",
    "        review_text = BeautifulSoup(review.strip()).get_text()\n",
    "    except AttributeError, e:\n",
    "        print(e)\n",
    "        review_text = \"\"\n",
    "    review_words = tokenizer_mecab(review_text)\n",
    "    return review_words"
   ]
  },
  {
   "cell_type": "code",
   "execution_count": 31,
   "metadata": {
    "collapsed": false
   },
   "outputs": [
    {
     "name": "stdout",
     "output_type": "stream",
     "text": [
      "statement_num : 1000\n",
      "statement_num : 2000\n",
      "statement_num : 3000\n",
      "statement_num : 4000\n",
      "statement_num : 5000\n",
      "statement_num : 6000\n",
      "statement_num : 7000\n",
      "statement_num : 8000\n",
      "statement_num : 9000\n"
     ]
    }
   ],
   "source": [
    "words=[]\n",
    "statement_num=0\n",
    "for item in items:\n",
    "    words += review_to_wordlist(item['content'])\n",
    "    statement_num += 1\n",
    "    if statement_num%1000==0:\n",
    "        print(\"statement_num : %d\" % statement_num)"
   ]
  },
  {
   "cell_type": "code",
   "execution_count": 33,
   "metadata": {
    "collapsed": false
   },
   "outputs": [
    {
     "data": {
      "text/plain": [
       "539314"
      ]
     },
     "execution_count": 33,
     "metadata": {},
     "output_type": "execute_result"
    }
   ],
   "source": [
    "len(words)"
   ]
  },
  {
   "cell_type": "code",
   "execution_count": 34,
   "metadata": {
    "collapsed": false
   },
   "outputs": [
    {
     "name": "stdout",
     "output_type": "stream",
     "text": [
      "[진짜/MAG,\n",
      " 궁금/XR,\n",
      " 해서/XSA+EC,\n",
      " 하나/NR,\n",
      " 만/JX,\n",
      " ,/SC,\n",
      " 공부/NNG,\n",
      " 안/MAG,\n",
      " 해/VV+EC,\n",
      " 가지/VX]\n"
     ]
    }
   ],
   "source": [
    "pprint(words[:10])"
   ]
  },
  {
   "cell_type": "code",
   "execution_count": 35,
   "metadata": {
    "collapsed": true
   },
   "outputs": [],
   "source": [
    "import nltk\n",
    "words_nltk = nltk.Text(words, name=\"words in statement\")"
   ]
  },
  {
   "cell_type": "code",
   "execution_count": 36,
   "metadata": {
    "collapsed": false
   },
   "outputs": [
    {
     "name": "stdout",
     "output_type": "stream",
     "text": [
      "[(./SF, 17287),\n",
      " (을/JKO, 11845),\n",
      " (에/JKB, 11641),\n",
      " (,/SC, 9932),\n",
      " (고/EC, 9489),\n",
      " (이/JKS, 9394),\n",
      " (하/XSV, 9230),\n",
      " (는/ETM, 7752),\n",
      " (습니다/EF, 7493),\n",
      " (가/JKS, 7261)]\n"
     ]
    }
   ],
   "source": [
    "# 많이 쓰인 단어 보여줌. 상위 10개의 단어.\n",
    "pprint(words_nltk.vocab().most_common(10))"
   ]
  },
  {
   "cell_type": "code",
   "execution_count": 40,
   "metadata": {
    "collapsed": false
   },
   "outputs": [],
   "source": [
    "import matplotlib\n",
    "matplotlib.rc('font',family='AppleGothic') # 기본 폰트로는 한글 폰트가 깨지기 떄문에 임의로 지정해줌. "
   ]
  },
  {
   "cell_type": "code",
   "execution_count": 41,
   "metadata": {
    "collapsed": false
   },
   "outputs": [
    {
     "ename": "UnicodeEncodeError",
     "evalue": "'ascii' codec can't encode characters in position 34-37: ordinal not in range(128)",
     "output_type": "error",
     "traceback": [
      "\u001b[0;31m---------------------------------------------------------------------------\u001b[0m",
      "\u001b[0;31mUnicodeEncodeError\u001b[0m                        Traceback (most recent call last)",
      "\u001b[0;32m/Users/Chad/Desktop/venv/lib/python2.7/site-packages/IPython/core/interactiveshell.pyc\u001b[0m in \u001b[0;36mrun_code\u001b[0;34m(self, code_obj, result)\u001b[0m\n\u001b[1;32m   3050\u001b[0m             \u001b[0;32mif\u001b[0m \u001b[0mresult\u001b[0m \u001b[0;32mis\u001b[0m \u001b[0;32mnot\u001b[0m \u001b[0mNone\u001b[0m\u001b[0;34m:\u001b[0m\u001b[0;34m\u001b[0m\u001b[0m\n\u001b[1;32m   3051\u001b[0m                 \u001b[0mresult\u001b[0m\u001b[0;34m.\u001b[0m\u001b[0merror_in_exec\u001b[0m \u001b[0;34m=\u001b[0m \u001b[0msys\u001b[0m\u001b[0;34m.\u001b[0m\u001b[0mexc_info\u001b[0m\u001b[0;34m(\u001b[0m\u001b[0;34m)\u001b[0m\u001b[0;34m[\u001b[0m\u001b[0;36m1\u001b[0m\u001b[0;34m]\u001b[0m\u001b[0;34m\u001b[0m\u001b[0m\n\u001b[0;32m-> 3052\u001b[0;31m             \u001b[0mself\u001b[0m\u001b[0;34m.\u001b[0m\u001b[0mshowtraceback\u001b[0m\u001b[0;34m(\u001b[0m\u001b[0;34m)\u001b[0m\u001b[0;34m\u001b[0m\u001b[0m\n\u001b[0m\u001b[1;32m   3053\u001b[0m         \u001b[0;32melse\u001b[0m\u001b[0;34m:\u001b[0m\u001b[0;34m\u001b[0m\u001b[0m\n\u001b[1;32m   3054\u001b[0m             \u001b[0moutflag\u001b[0m \u001b[0;34m=\u001b[0m \u001b[0;36m0\u001b[0m\u001b[0;34m\u001b[0m\u001b[0m\n",
      "\u001b[0;32m/Users/Chad/Desktop/venv/lib/python2.7/site-packages/IPython/core/interactiveshell.pyc\u001b[0m in \u001b[0;36mshowtraceback\u001b[0;34m(self, exc_tuple, filename, tb_offset, exception_only)\u001b[0m\n\u001b[1;32m   1834\u001b[0m                 \u001b[0mself\u001b[0m\u001b[0;34m.\u001b[0m\u001b[0mshowsyntaxerror\u001b[0m\u001b[0;34m(\u001b[0m\u001b[0mfilename\u001b[0m\u001b[0;34m)\u001b[0m\u001b[0;34m\u001b[0m\u001b[0m\n\u001b[1;32m   1835\u001b[0m             \u001b[0;32melif\u001b[0m \u001b[0metype\u001b[0m \u001b[0;32mis\u001b[0m \u001b[0mUsageError\u001b[0m\u001b[0;34m:\u001b[0m\u001b[0;34m\u001b[0m\u001b[0m\n\u001b[0;32m-> 1836\u001b[0;31m                 \u001b[0mself\u001b[0m\u001b[0;34m.\u001b[0m\u001b[0mshow_usage_error\u001b[0m\u001b[0;34m(\u001b[0m\u001b[0mvalue\u001b[0m\u001b[0;34m)\u001b[0m\u001b[0;34m\u001b[0m\u001b[0m\n\u001b[0m\u001b[1;32m   1837\u001b[0m             \u001b[0;32melse\u001b[0m\u001b[0;34m:\u001b[0m\u001b[0;34m\u001b[0m\u001b[0m\n\u001b[1;32m   1838\u001b[0m                 \u001b[0;32mif\u001b[0m \u001b[0mexception_only\u001b[0m\u001b[0;34m:\u001b[0m\u001b[0;34m\u001b[0m\u001b[0m\n",
      "\u001b[0;32m/Users/Chad/Desktop/venv/lib/python2.7/site-packages/IPython/core/interactiveshell.pyc\u001b[0m in \u001b[0;36mshow_usage_error\u001b[0;34m(self, exc)\u001b[0m\n\u001b[1;32m   1798\u001b[0m         \u001b[0mThese\u001b[0m \u001b[0mare\u001b[0m \u001b[0mspecial\u001b[0m \u001b[0mexceptions\u001b[0m \u001b[0mthat\u001b[0m \u001b[0mshouldn\u001b[0m\u001b[0;31m'\u001b[0m\u001b[0mt\u001b[0m \u001b[0mshow\u001b[0m \u001b[0ma\u001b[0m \u001b[0mtraceback\u001b[0m\u001b[0;34m.\u001b[0m\u001b[0;34m\u001b[0m\u001b[0m\n\u001b[1;32m   1799\u001b[0m         \"\"\"\n\u001b[0;32m-> 1800\u001b[0;31m         \u001b[0mself\u001b[0m\u001b[0;34m.\u001b[0m\u001b[0mwrite_err\u001b[0m\u001b[0;34m(\u001b[0m\u001b[0;34m\"UsageError: %s\"\u001b[0m \u001b[0;34m%\u001b[0m \u001b[0mexc\u001b[0m\u001b[0;34m)\u001b[0m\u001b[0;34m\u001b[0m\u001b[0m\n\u001b[0m\u001b[1;32m   1801\u001b[0m \u001b[0;34m\u001b[0m\u001b[0m\n\u001b[1;32m   1802\u001b[0m     \u001b[0;32mdef\u001b[0m \u001b[0mget_exception_only\u001b[0m\u001b[0;34m(\u001b[0m\u001b[0mself\u001b[0m\u001b[0;34m,\u001b[0m \u001b[0mexc_tuple\u001b[0m\u001b[0;34m=\u001b[0m\u001b[0mNone\u001b[0m\u001b[0;34m)\u001b[0m\u001b[0;34m:\u001b[0m\u001b[0;34m\u001b[0m\u001b[0m\n",
      "\u001b[0;31mUnicodeEncodeError\u001b[0m: 'ascii' codec can't encode characters in position 34-37: ordinal not in range(128)"
     ]
    }
   ],
   "source": [
    "%matplotlib inline # Jupyter 노트북에 플롯 표시해줌."
   ]
  },
  {
   "cell_type": "code",
   "execution_count": 42,
   "metadata": {
    "collapsed": true
   },
   "outputs": [],
   "source": [
    "words_nltk.plot(40) # 가장 많이쓰인 상위 40개의 단어"
   ]
  },
  {
   "cell_type": "code",
   "execution_count": null,
   "metadata": {
    "collapsed": true
   },
   "outputs": [],
   "source": []
  },
  {
   "cell_type": "markdown",
   "metadata": {},
   "source": [
    "### Naive하게 불용어(stop words)처리\n",
    "- 조사(~에, ~로), 구두점(.)같은 의미없는 단어들 제거. "
   ]
  },
  {
   "cell_type": "code",
   "execution_count": 43,
   "metadata": {
    "collapsed": true
   },
   "outputs": [],
   "source": [
    "# 품사 중 일반명사, 고유명사, 동사, 형용사 만 추출해봄.\n",
    "Non_Stop_words = [\"NNG\", \"NNP\",\"VV\",\"VA\"]"
   ]
  },
  {
   "cell_type": "code",
   "execution_count": 44,
   "metadata": {
    "collapsed": false
   },
   "outputs": [
    {
     "name": "stdout",
     "output_type": "stream",
     "text": [
      "[공부/NNG,\n",
      " 여쭈/VV,\n",
      " 카타르/NNG,\n",
      " 국부/NNG,\n",
      " 펀드/NNG,\n",
      " 하/VV,\n",
      " 국/NNG,\n",
      " 공동/NNG,\n",
      " 진출/NNG,\n",
      " 국/NNG]\n"
     ]
    }
   ],
   "source": [
    "words_new = [w for w in words if w.split(\"/\")[-1] in Non_Stop_words]\n",
    "pprint(words_new[:10])"
   ]
  },
  {
   "cell_type": "code",
   "execution_count": 45,
   "metadata": {
    "collapsed": true
   },
   "outputs": [],
   "source": [
    "words_nltk_new = nltk.Text(words_new, name=\"new words in statement\")"
   ]
  },
  {
   "cell_type": "code",
   "execution_count": 47,
   "metadata": {
    "collapsed": false
   },
   "outputs": [
    {
     "name": "stdout",
     "output_type": "stream",
     "text": [
      "[(하/VV, 5534),\n",
      " (있/VV, 2580),\n",
      " (되/VV, 2333),\n",
      " (있/VA, 2129),\n",
      " (말씀/NNG, 1911),\n",
      " (위원/NNG, 1874),\n",
      " (생각/NNG, 1695),\n",
      " (부분/NNG, 1561),\n",
      " (없/VA, 1443),\n",
      " (문제/NNG, 1373),\n",
      " (보/VV, 1133),\n",
      " (다음/NNG, 1026),\n",
      " (그렇/VA, 923),\n",
      " (같/VA, 902),\n",
      " (사업/NNG, 899),\n",
      " (때/NNG, 858),\n",
      " (정부/NNG, 813),\n",
      " (드리/VV, 811),\n",
      " (알/VV, 740),\n",
      " (국민/NNG, 739)]\n"
     ]
    }
   ],
   "source": [
    "# 많이 쓰인 단어 보여줌. 상위 10개의 단어.\n",
    "pprint(words_nltk_new.vocab().most_common(20))"
   ]
  },
  {
   "cell_type": "code",
   "execution_count": 48,
   "metadata": {
    "collapsed": true
   },
   "outputs": [],
   "source": [
    "words_nltk_new.plot(40) # 가장 많이쓰인 상위 40개의 단어"
   ]
  },
  {
   "cell_type": "code",
   "execution_count": null,
   "metadata": {
    "collapsed": true
   },
   "outputs": [],
   "source": []
  },
  {
   "cell_type": "markdown",
   "metadata": {},
   "source": [
    "<hr style=\"border-color:#ff9900\">\n",
    "# Step 3. Word2vec 실습 : 벡터 표현도 해보자.\n",
    "<hr style=\"border-color:#ff9900\">"
   ]
  },
  {
   "cell_type": "code",
   "execution_count": null,
   "metadata": {
    "collapsed": true
   },
   "outputs": [],
   "source": [
    "import time # 작업시간 검사용!!\n",
    "doc_num = 0\n",
    "sentences = []  # Initialize an empty list of sentences\n",
    "start = time.time(); # 작업시간 검사용!\n",
    "for doc in text_data[\"Field4\"]:\n",
    "    doc_num += 1\n",
    "    sentences += doc_to_sentences(doc)\n",
    "    if doc_num%2000==0:\n",
    "        print \"doc_num : %d, time : %d \" % (doc_num, time.time()-start)\n",
    "end = time.time();\n",
    "print end-start"
   ]
  },
  {
   "cell_type": "code",
   "execution_count": 50,
   "metadata": {
    "collapsed": true
   },
   "outputs": [],
   "source": [
    "# Define a function to split a review into parsed sentences\n",
    "def doc_to_sentences( doc, remove_stopwords=False ):\n",
    "    raw_sentences = tokenizer_mecab(doc)\n",
    "    sentences = []\n",
    "    for raw_sentence in raw_sentences:\n",
    "        # If a sentence is empty, skip it\n",
    "        if len(raw_sentence) > 0:\n",
    "            # Otherwise, call review_to_wordlist to get a list of words\n",
    "            sentences.append( sentence_to_wordlist( statement, remove_stopwords ))\n",
    "    #\n",
    "    # Return the list of sentences (each sentence is a list of words,\n",
    "    # so this returns a list of lists\n",
    "    return sentences"
   ]
  },
  {
   "cell_type": "code",
   "execution_count": 53,
   "metadata": {
    "collapsed": false
   },
   "outputs": [],
   "source": [
    "def statement_to_wordlist( statement, remove_stopwords=False ):\n",
    "    words = tokenizer_twit(statement)\n",
    "    if remove_stopwords:\n",
    "        words_new = [w for w in words if w.split(\"/\")[-1] in Non_Stop_words]\n",
    "    return(words)"
   ]
  },
  {
   "cell_type": "code",
   "execution_count": null,
   "metadata": {
    "collapsed": true
   },
   "outputs": [],
   "source": []
  },
  {
   "cell_type": "code",
   "execution_count": null,
   "metadata": {
    "collapsed": true
   },
   "outputs": [],
   "source": []
  },
  {
   "cell_type": "code",
   "execution_count": null,
   "metadata": {
    "collapsed": true
   },
   "outputs": [],
   "source": []
  },
  {
   "cell_type": "code",
   "execution_count": null,
   "metadata": {
    "collapsed": true
   },
   "outputs": [],
   "source": []
  },
  {
   "cell_type": "code",
   "execution_count": null,
   "metadata": {
    "collapsed": true
   },
   "outputs": [],
   "source": []
  },
  {
   "cell_type": "code",
   "execution_count": null,
   "metadata": {
    "collapsed": true
   },
   "outputs": [],
   "source": []
  },
  {
   "cell_type": "code",
   "execution_count": null,
   "metadata": {
    "collapsed": true
   },
   "outputs": [],
   "source": []
  },
  {
   "cell_type": "code",
   "execution_count": null,
   "metadata": {
    "collapsed": true
   },
   "outputs": [],
   "source": []
  },
  {
   "cell_type": "code",
   "execution_count": null,
   "metadata": {
    "collapsed": true
   },
   "outputs": [],
   "source": []
  }
 ],
 "metadata": {
  "kernelspec": {
   "display_name": "Python 2",
   "language": "python",
   "name": "python2"
  },
  "language_info": {
   "codemirror_mode": {
    "name": "ipython",
    "version": 2
   },
   "file_extension": ".py",
   "mimetype": "text/x-python",
   "name": "python",
   "nbconvert_exporter": "python",
   "pygments_lexer": "ipython2",
   "version": "2.7.10"
  }
 },
 "nbformat": 4,
 "nbformat_minor": 0
}
